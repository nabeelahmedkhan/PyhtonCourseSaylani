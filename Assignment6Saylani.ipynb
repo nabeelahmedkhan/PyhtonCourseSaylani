{
 "cells": [
  {
   "cell_type": "markdown",
   "metadata": {},
   "source": [
    "# Question 1:\n",
    "Define Object Oriented Programming Language?\n",
    "# Answer:\n",
    "Object-oriented programming (OOP) is a programming paradigm based on the concept of \"objects\", which can contain data, in the form of fields (often known as attributes or properties), and code, in the form of procedures (often known as methods). "
   ]
  },
  {
   "cell_type": "markdown",
   "metadata": {},
   "source": [
    "# Question 2:\n",
    "List down the Benefits of OOP?\n",
    "# Answer:\n",
    "1. Modularity for easier troubleshooting\n",
    "2. Reuse of code through inheritance\n",
    "3. Flexibility through polymorphism\n",
    "4. Effective problem solving"
   ]
  },
  {
   "cell_type": "markdown",
   "metadata": {},
   "source": [
    "# Question 3:\n",
    "Differentiate between function and method?\n",
    "# Answer:\n",
    "A function is a piece of code that is called by name. It can be passed data to operate on (i.e. the parameters) and can optionally return data (the return value). All data that is passed to a function is explicitly passed.\n",
    "A method is a piece of code that is called by a name that is associated with an object. In most respects it is identical to a function except for two key differences:\n",
    "\n",
    "A method is implicitly passed the object on which it was called.\n",
    "A method is able to operate on data that is contained within the class (remembering that an object is an instance of a class - the class is the definition, the object is an instance of that data)."
   ]
  },
  {
   "cell_type": "markdown",
   "metadata": {},
   "source": [
    "# Question 4:\n",
    "Define the following terms:\n",
    "1. Class\n",
    "2. Object\n",
    "3. Attribute\n",
    "4. Behavior\n",
    "# Answer:\n",
    "1. Class: A class is a definition of objects of the same kind. In other words, a class is a blueprint, template, or prototype that defines and describes the static attributes and dynamic behaviors common to all objects of the same kind.\n",
    "2. Objects: are the things you think about first in designing a program and they are also the units of code that are eventually derived from the process. In between, each object is made into a generic class of object and even more generic classes are defined so that objects can share models and reuse the class definitions in their code.\n",
    "3. Attribute denotes a part of an aggregate object, and so is used during analysis as well as design to express a singular property of the class.\n",
    "4. The behavior of an object is defined by its methods, which are the functions and subroutines defined within the object class. Without class methods, a class would simply be a structure."
   ]
  },
  {
   "cell_type": "markdown",
   "metadata": {},
   "source": [
    "# Question 5:\n",
    "Write a code in python in which create a class named it Car which\n",
    "have 5 attributes such like (model, color and name etc.) and 3\n",
    "methods. And create 5 object instance from that class."
   ]
  },
  {
   "cell_type": "code",
   "execution_count": 2,
   "metadata": {},
   "outputs": [
    {
     "name": "stdout",
     "output_type": "stream",
     "text": [
      "Car Name: altu\n",
      "Car Model: 200\n",
      "Car Color: red\n",
      "Car Power: 100 hp\n",
      "Enter more object(1/0): 1\n",
      "Car Name: bmw\n",
      "Car Model: 2000\n",
      "Car Color: pink\n",
      "Car Power: 200 hp\n",
      "Enter more object(1/0): 1\n",
      "Car Name: cultus\n",
      "Car Model: 2009\n",
      "Car Color: blue\n",
      "Car Power: 1200 hp\n",
      "Enter more object(1/0): 1\n",
      "Car Name: corolla\n",
      "Car Model: 2001\n",
      "Car Color: black\n",
      "Car Power: 1300 cc\n",
      "Enter more object(1/0): 1\n",
      "Car Name: pico\n",
      "Car Model: 2019\n",
      "Car Color: mergenda\n",
      "Car Power: 1540cc\n",
      "Enter more object(1/0): 1\n",
      "Car Name: esso\n",
      "Car Model: 2009\n",
      "Car Color: red\n",
      "Car Power: 2000 cc\n",
      "Enter more object(1/0): 0\n",
      "Total Objects: 6\n",
      "Current Speed of altu after accelarate: 10\n",
      "Current Speed of cultus after accelarate: 5\n",
      "Current Speed of bmw after accelarate: 5\n",
      "Current Speed of pico after accelarate: 5\n",
      "Current Speed of bmw after brake: 0\n"
     ]
    }
   ],
   "source": [
    "class Car:\n",
    "    def __init__(self,name,model,color,power,speed):\n",
    "        self.name=name\n",
    "        self.model=model\n",
    "        self.color=color\n",
    "        self.power=power\n",
    "        self.speed=speed\n",
    "    def accelarate(self):\n",
    "        self.speed+=5\n",
    "    def brake(self):\n",
    "        self.speed-=5\n",
    "    def get_speed(self):\n",
    "        return self.speed\n",
    "list=[]\n",
    "while(True):   \n",
    "    name=input(\"Car Name: \")\n",
    "    model=int(input(\"Car Model: \"))\n",
    "    color=input(\"Car Color: \")\n",
    "    power=input(\"Car Power: \")\n",
    "    speed=0;\n",
    "    list.append(Car(name,model,color,power,speed))\n",
    "    flag=False\n",
    "    flag=int(input(\"Enter more object(1/0): \"))\n",
    "    if(flag==0):\n",
    "        break\n",
    "print(\"Total Objects: \"+str(len(list)))\n",
    "list[0].accelarate()\n",
    "list[0].accelarate()\n",
    "print(\"Current Speed of \"+str(list[0].name)+\" after accelarate: \"+str(list[0].get_speed()))\n",
    "list[2].accelarate()\n",
    "print(\"Current Speed of \"+str(list[2].name)+\" after accelarate: \"+str(list[2].get_speed()))\n",
    "list[1].accelarate()\n",
    "print(\"Current Speed of \"+str(list[1].name)+\" after accelarate: \"+str(list[1].get_speed()))\n",
    "list[4].accelarate()\n",
    "print(\"Current Speed of \"+str(list[4].name)+\" after accelarate: \"+str(list[4].get_speed()))\n",
    "list[1].brake()\n",
    "print(\"Current Speed of \"+str(list[1].name)+\" after brake: \"+str(list[1].get_speed()))"
   ]
  },
  {
   "cell_type": "code",
   "execution_count": null,
   "metadata": {
    "collapsed": true
   },
   "outputs": [],
   "source": []
  }
 ],
 "metadata": {
  "kernelspec": {
   "display_name": "Python 3",
   "language": "python",
   "name": "python3"
  },
  "language_info": {
   "codemirror_mode": {
    "name": "ipython",
    "version": 3
   },
   "file_extension": ".py",
   "mimetype": "text/x-python",
   "name": "python",
   "nbconvert_exporter": "python",
   "pygments_lexer": "ipython3",
   "version": "3.6.1"
  }
 },
 "nbformat": 4,
 "nbformat_minor": 2
}
