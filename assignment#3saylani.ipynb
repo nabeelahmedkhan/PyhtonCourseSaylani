{
 "cells": [
  {
   "cell_type": "markdown",
   "metadata": {},
   "source": [
    "# 1. Make a calculator using Python with addition , subtraction , multiplication ,division and power."
   ]
  },
  {
   "cell_type": "code",
   "execution_count": 3,
   "metadata": {},
   "outputs": [
    {
     "name": "stdout",
     "output_type": "stream",
     "text": [
      "Enter 1st value: 3\n",
      "Enter 2nd value: 5\n",
      "\n",
      "Enter 1 for addition :\n",
      "Enter 2 for subtraction :\n",
      "Enter 3 for multiplication :\n",
      "Enter 4 for division :\n",
      "Enter 5 for power: \n",
      "Enter your selection: 5\n",
      "\n",
      "Your Answer : 243\n"
     ]
    }
   ],
   "source": [
    "num1 = int(input(\"Enter 1st value: \"))\n",
    "num2 = int(input(\"Enter 2nd value: \"))\n",
    "answer = None\n",
    "print(\"\\nEnter 1 for addition :\")\n",
    "print(\"Enter 2 for subtraction :\")\n",
    "print(\"Enter 3 for multiplication :\")\n",
    "print(\"Enter 4 for division :\")\n",
    "print(\"Enter 5 for power: \")\n",
    "select = int(input(\"Enter your selection: \"))\n",
    "\n",
    "if select == 1:\n",
    "    answer = num1+num2\n",
    "elif select == 2:\n",
    "    answer = num1-num2\n",
    "elif select == 3:\n",
    "    answer = num1*num2\n",
    "elif select == 4:\n",
    "    answer = num1/num2\n",
    "elif select == 5:\n",
    "    answer = num1**num2\n",
    "    \n",
    "print(\"\\nYour Answer : {}\".format(answer))"
   ]
  },
  {
   "cell_type": "markdown",
   "metadata": {},
   "source": [
    "# 2. Write a program to check if there is any numeric value in list using for loop"
   ]
  },
  {
   "cell_type": "code",
   "execution_count": 8,
   "metadata": {},
   "outputs": [
    {
     "name": "stdout",
     "output_type": "stream",
     "text": [
      "Numeric value found : 33\n",
      "Numeric value found : 4\n",
      "Numeric value found : 88\n"
     ]
    }
   ],
   "source": [
    "check_int_list = [\"asdsa\",33  ,\"3\", 4,\"saylani\",\"dsdasd\",88]\n",
    "for value in check_int_list:\n",
    "    if type(value) is int or type(value) is float:\n",
    "        print(\"Numeric value found : {}\".format(value))"
   ]
  },
  {
   "cell_type": "markdown",
   "metadata": {},
   "source": [
    "# 3. Write a Python script to add a key to a dictionary"
   ]
  },
  {
   "cell_type": "code",
   "execution_count": 13,
   "metadata": {},
   "outputs": [
    {
     "name": "stdout",
     "output_type": "stream",
     "text": [
      "{'keysss': 'valuess', 2: 'Nabeel Khan', 3: 'NAK'}\n",
      "{'keysss': 'valuess', 2: 'Nabeel Khan', 3: 'Nabeel Khan'}\n"
     ]
    }
   ],
   "source": [
    "dic = {'keysss':'valuess'}\n",
    "dic[2] = \"Nabeel Khan\"\n",
    "dic[3] = \"NAK\"\n",
    "print(dic)\n",
    "dic[3] = \"Nabeel Khan\"\n",
    "print(dic)"
   ]
  },
  {
   "cell_type": "markdown",
   "metadata": {},
   "source": [
    "# 4. Write a Python program to sum all the numeric items in a dictionary"
   ]
  },
  {
   "cell_type": "code",
   "execution_count": 17,
   "metadata": {},
   "outputs": [
    {
     "name": "stdout",
     "output_type": "stream",
     "text": [
      "Sum = 1221.33\n"
     ]
    }
   ],
   "source": [
    "dic = {1: 233 ,\n",
    "    2: \"nabeel Khan\", \n",
    "    3: 434.33, \n",
    "    4:\"NAK\",\n",
    "    5: 10,\n",
    "    \"assd\":544}\n",
    "result = 0\n",
    "for value in dic.values():\n",
    "    if type(value) == int or type(value) == float:\n",
    "        result += value        \n",
    "        \n",
    "print(\"Sum = {}\".format(result))"
   ]
  },
  {
   "cell_type": "markdown",
   "metadata": {},
   "source": [
    "# 5. Write a program to identify duplicate values from list"
   ]
  },
  {
   "cell_type": "code",
   "execution_count": 26,
   "metadata": {},
   "outputs": [
    {
     "name": "stdout",
     "output_type": "stream",
     "text": [
      "Duplicate Items in List : NAK\n",
      "Duplicate Items in List : 5\n",
      "Duplicate Items in List : Nabeel Khan\n"
     ]
    }
   ],
   "source": [
    "dub_list = [\"NAK\",\"Nabeel Khan\", \"NAK\", 5, 5, 0.8, 0.4, 2, 3, 4, 9, 6,\"Nabeel Khan\"]\n",
    "for value in dub_list:\n",
    "    if  dub_list.count(value) >= 2:\n",
    "        dub_list.remove(value)\n",
    "        print(\"Duplicate Items in List : {}\".format(value))"
   ]
  },
  {
   "cell_type": "markdown",
   "metadata": {},
   "source": [
    "# 6. Write a Python script to check if a given key already exists in a dictionary"
   ]
  },
  {
   "cell_type": "code",
   "execution_count": 30,
   "metadata": {},
   "outputs": [
    {
     "name": "stdout",
     "output_type": "stream",
     "text": [
      "Already existed key is: 2\n"
     ]
    }
   ],
   "source": [
    "dic = { 1: {\"Name\": \"Nabeel Khan\",\n",
    "           \"Nick Name\": \"NAK\"},\n",
    "            2: {\"F_name\": \"Nafees Khan\",\n",
    "           \"Nick Name\": \"None\"},\n",
    "            3: \"key3\"}\n",
    "check_key = 2\n",
    "for key,_ in dic.items():\n",
    "    if key == check_key:\n",
    "        print(\"Already existed key is: {}\".format(check_key))"
   ]
  },
  {
   "cell_type": "code",
   "execution_count": null,
   "metadata": {
    "collapsed": true
   },
   "outputs": [],
   "source": []
  }
 ],
 "metadata": {
  "kernelspec": {
   "display_name": "Python 3",
   "language": "python",
   "name": "python3"
  },
  "language_info": {
   "codemirror_mode": {
    "name": "ipython",
    "version": 3
   },
   "file_extension": ".py",
   "mimetype": "text/x-python",
   "name": "python",
   "nbconvert_exporter": "python",
   "pygments_lexer": "ipython3",
   "version": "3.6.1"
  }
 },
 "nbformat": 4,
 "nbformat_minor": 2
}
