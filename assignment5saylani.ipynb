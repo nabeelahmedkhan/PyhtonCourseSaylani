{
 "cells": [
  {
   "cell_type": "markdown",
   "metadata": {},
   "source": [
    "# Question:1\n",
    "## Write a Python function to calculate the factorial of a number (a non-negative\n",
    "## integer). The function accepts the number as an argument."
   ]
  },
  {
   "cell_type": "code",
   "execution_count": 5,
   "metadata": {},
   "outputs": [
    {
     "name": "stdout",
     "output_type": "stream",
     "text": [
      "Enter Integer Value to find Factorial: 9\n",
      "The Factorial of a 9 : 362880\n"
     ]
    }
   ],
   "source": [
    "number= input(\"Enter Integer Value to find Factorial: \")\n",
    "number = int(number)\n",
    "def Factorial(num):\n",
    "    f=1\n",
    "    if num < 0:\n",
    "        print(\"please enter value that is greater then one\")\n",
    "    elif num == 0:\n",
    "        print(\"The factorial of 0 is 1\")\n",
    "    elif num >= 1:\n",
    "        for i in range(1,num+1):\n",
    "            f = f * i\n",
    "        print(\"The Factorial of a\", num , \":\", f)\n",
    "    else:\n",
    "        print(\"Invalid Value Enter\")\n",
    "Factorial(number)"
   ]
  },
  {
   "cell_type": "markdown",
   "metadata": {},
   "source": [
    "# Question:2\n",
    "## Write a Python function that accepts a string and calculate the number of upper\n",
    "## case letters and lower case letters."
   ]
  },
  {
   "cell_type": "code",
   "execution_count": 11,
   "metadata": {},
   "outputs": [
    {
     "name": "stdout",
     "output_type": "stream",
     "text": [
      "Enter any String: Salam Saylani\n",
      "Number of Upper latters are: 2 and Lower Latters are: 10\n"
     ]
    }
   ],
   "source": [
    "def strLU(stringValues):\n",
    "    countUpper = 0\n",
    "    countLower = 0\n",
    "    for ch in stringValues:\n",
    "        if ch >= 'a' and 'z' >= ch:\n",
    "            countLower +=1\n",
    "        elif  ch >= 'A' and 'Z' >= ch:\n",
    "            countUpper +=1\n",
    "    print(\"Number of Upper latters are: {} and Lower Latters are: {}\".format(countUpper,countLower))\n",
    "\n",
    "strvariable = input(\"Enter any String: \")\n",
    "\n",
    "strLU(strvariable)\n"
   ]
  },
  {
   "cell_type": "markdown",
   "metadata": {},
   "source": [
    "# Question:3\n",
    "## Write a Python function to print the even numbers from a given list."
   ]
  },
  {
   "cell_type": "code",
   "execution_count": 19,
   "metadata": {},
   "outputs": [
    {
     "name": "stdout",
     "output_type": "stream",
     "text": [
      "2 4 4 4 6 8 0 2 "
     ]
    }
   ],
   "source": [
    "def EvenNum(List):\n",
    "    for num in List:\n",
    "        if num % 2==0:  \n",
    "            print(num, end =\" \")\n",
    "numlist = [2,4,6777,4,4,6,7,8,9,0,3,2,1]\n",
    "EvenNum(numlist)"
   ]
  },
  {
   "cell_type": "markdown",
   "metadata": {},
   "source": [
    "# Question:4\n",
    "## Write a Python function that checks whether a passed string is palindrome or not.\n",
    "## Note: A palindrome is a word, phrase, or sequence that reads the same\n",
    "## backward as forward, e.g., madam"
   ]
  },
  {
   "cell_type": "code",
   "execution_count": 24,
   "metadata": {},
   "outputs": [
    {
     "name": "stdout",
     "output_type": "stream",
     "text": [
      "Enter Palindrome: wow\n",
      "This string is palindrome\n"
     ]
    }
   ],
   "source": [
    "def checkPaln(string):\n",
    "    if(string==string[::-1]):\n",
    "        print(\"This string is palindrome\")\n",
    "    else:\n",
    "        print(\"This string is Not palindrome\")\n",
    "        \n",
    "\n",
    "string= input(\"Enter Palindrome: \")\n",
    "checkPaln(string)"
   ]
  },
  {
   "cell_type": "markdown",
   "metadata": {},
   "source": [
    "# Question:5\n",
    "## Write a Python function that takes a number as a parameter and check the\n",
    "## number is prime or not."
   ]
  },
  {
   "cell_type": "code",
   "execution_count": 32,
   "metadata": {},
   "outputs": [
    {
     "name": "stdout",
     "output_type": "stream",
     "text": [
      "Enter number to check prime: 3\n",
      "3 is a prime number\n"
     ]
    }
   ],
   "source": [
    "def checkPrime(num):\n",
    "    if num > 1:\n",
    "        for i in range(2,num):\n",
    "            if (num % i) == 0:\n",
    "                print(num,\"is not a prime number\")\n",
    "                print(i,\"times\",num//i,\"is\",num)\n",
    "                break\n",
    "        else:\n",
    "            print(num,\"is a prime number\")\n",
    "\n",
    "\n",
    "    else:\n",
    "        print(num,\"is not a prime number\")\n",
    "\n",
    "number = int(input(\"Enter number to check prime: \"));\n",
    "checkPrime(number);"
   ]
  },
  {
   "cell_type": "markdown",
   "metadata": {},
   "source": [
    "# Question: 6\n",
    "## Suppose a customer is shopping in a market and you need to print all the items\n",
    "## which user bought from market.\n",
    "## Write a function which accepts the multiple arguments of user shopping list and\n",
    "## print all the items which user bought from market."
   ]
  },
  {
   "cell_type": "code",
   "execution_count": 7,
   "metadata": {},
   "outputs": [
    {
     "name": "stdout",
     "output_type": "stream",
     "text": [
      "----Enter Item List and Enter bye for End----\n",
      "\n",
      "Enter item: apple\n",
      "Enter item: mango\n",
      "Enter item: banana\n",
      "Enter item: bye\n",
      "Nabeel Khan Purchase this item : apple\n",
      "Nabeel Khan Purchase this item : mango\n",
      "Nabeel Khan Purchase this item : banana\n"
     ]
    }
   ],
   "source": [
    "def marketlist(itemList,name):\n",
    "    for item in itemList:\n",
    "        print(name + \" Purchase this item : \"+item )\n",
    "\n",
    "itemList = []\n",
    "print(\"----Enter Item List and Enter bye for End----\\n\")\n",
    "while True:\n",
    "    item = input(\"Enter item: \")\n",
    "    if item == 'bye':\n",
    "        break;\n",
    "    itemList.append(item)\n",
    "marketlist(itemList,name=\"Nabeel Khan\")\n"
   ]
  },
  {
   "cell_type": "code",
   "execution_count": null,
   "metadata": {
    "collapsed": true
   },
   "outputs": [],
   "source": []
  }
 ],
 "metadata": {
  "file_extension": ".py",
  "kernelspec": {
   "display_name": "Python 3",
   "language": "python",
   "name": "python3"
  },
  "mimetype": "text/x-python",
  "name": "python",
  "npconvert_exporter": "python",
  "pygments_lexer": "ipython3",
  "version": 3
 },
 "nbformat": 4,
 "nbformat_minor": 2
}
