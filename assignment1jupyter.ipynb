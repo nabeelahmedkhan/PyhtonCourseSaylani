{
 "cells": [
  {
   "cell_type": "code",
   "execution_count": 1,
   "metadata": {},
   "outputs": [
    {
     "name": "stdout",
     "output_type": "stream",
     "text": [
      "3.6.1\n"
     ]
    }
   ],
   "source": [
    "\"\"\" Write a Python program to get the Python version you are using \"\"\"\n",
    "\n",
    "import platform\n",
    "print(platform.python_version())\n"
   ]
  },
  {
   "cell_type": "code",
   "execution_count": 2,
   "metadata": {},
   "outputs": [
    {
     "name": "stdout",
     "output_type": "stream",
     "text": [
      "Current datetime : 2019-11-15 21:05:02.861202\n",
      "date and time = 15/11/2019 21:05:02\n"
     ]
    }
   ],
   "source": [
    "\"\"\"Write a Python program to display the current date and time.\"\"\"\n",
    "\n",
    "from datetime import datetime\n",
    "now_date = datetime.now() \n",
    "print(\"Current datetime :\", now_date)\n",
    "dt_string = now_date.strftime(\"%d/%m/%Y %H:%M:%S\")\n",
    "print(\"date and time =\", dt_string)\t"
   ]
  },
  {
   "cell_type": "code",
   "execution_count": 4,
   "metadata": {},
   "outputs": [
    {
     "name": "stdout",
     "output_type": "stream",
     "text": [
      "input 1st numbers : 56\n",
      "input 2nd numbers : 43\n",
      "First two numbers addition:  99\n"
     ]
    }
   ],
   "source": [
    "\"\"\"Write a python program which takes two inputs from user and print them\n",
    "addition\"\"\"\n",
    "\n",
    "inputint1 = input(\"input 1st numbers : \")\n",
    "inputint2 = input(\"input 2nd numbers : \")\n",
    "print(\"First two numbers addition: \",int(inputint1) + int(inputint2))\n"
   ]
  },
  {
   "cell_type": "code",
   "execution_count": 5,
   "metadata": {},
   "outputs": [
    {
     "name": "stdout",
     "output_type": "stream",
     "text": [
      "Enter first Name : nabeel\n",
      "Enter Last Name : khan\n",
      "leeban nahk\n",
      "leeban nahk\n"
     ]
    }
   ],
   "source": [
    "\"\"\"Write a Python program which accepts the user's first and last name and\n",
    "print them in reverse order with a space between them\"\"\"\n",
    "\n",
    "firstName = input(\"Enter first Name : \")\n",
    "lastName = input(\"Enter Last Name : \")\n",
    "print(\"\".join(reversed(firstName)) +\" \"+ \"\".join(reversed(lastName)))\n",
    "print(firstName[len(firstName)::-1] +\" \" + lastName[len(lastName)::-1])\n"
   ]
  },
  {
   "cell_type": "code",
   "execution_count": 6,
   "metadata": {},
   "outputs": [
    {
     "name": "stdout",
     "output_type": "stream",
     "text": [
      "Enter Radius Of circle: 34\n",
      "Area of circle is :  3630.996\n",
      "Area of circle is :  3631.681107549801\n"
     ]
    }
   ],
   "source": [
    "\"\"\"Write a Python program which accepts the radius of a circle from the user\n",
    "and compute the area.\"\"\"\n",
    "\n",
    "import math\n",
    "radiusCircle = int(input(\"Enter Radius Of circle: \"))\n",
    "print(\"Area of circle is : \", 3.141*radiusCircle**2)\n",
    "print(\"Area of circle is : \", math.pi*radiusCircle**2)\n"
   ]
  },
  {
   "cell_type": "code",
   "execution_count": 8,
   "metadata": {},
   "outputs": [
    {
     "name": "stdout",
     "output_type": "stream",
     "text": [
      "Twinkle, twinkle, little star,\n",
      "\t How I wonder what you are!\n",
      "\t\t Up above the world so high,\n",
      "\t\t Like a diamond in the sky.\n",
      "Twinkle, twinkle, little star,\n",
      "\t How I wonder what you are!\n"
     ]
    }
   ],
   "source": [
    "\"\"\"Write a Python program to print the following string in a specific format\n",
    "(see the output).\n",
    "Twinkle, twinkle, little star,\n",
    "    How I wonder what you are!\n",
    "        Up above the world so high,\n",
    "        Like a diamond in the sky.\n",
    "Twinkle, twinkle, little star,\n",
    "    How I wonder what you are\"\"\"\n",
    "\n",
    "stringPrint = ['Twinkle, twinkle, little star,',\n",
    "               'How I wonder what you are!',\n",
    "               'Up above the world so high,',\n",
    "               'Like a diamond in the sky.']\n",
    "n = 0\n",
    "for j in range(0,6):\n",
    "        if n == 0:    \n",
    "            print(stringPrint[n])\n",
    "        elif n == 1:\n",
    "            print('\\t',stringPrint[n])\n",
    "        elif n == 2:\n",
    "            print('\\t\\t',stringPrint[n])\n",
    "        elif n == 3:\n",
    "            print('\\t\\t',stringPrint[n])\n",
    "        n+=1\n",
    "        if n >= 4:\n",
    "            n = 0"
   ]
  },
  {
   "cell_type": "code",
   "execution_count": null,
   "metadata": {
    "collapsed": true
   },
   "outputs": [],
   "source": []
  }
 ],
 "metadata": {
  "file_extension": ".py",
  "kernelspec": {
   "display_name": "Python 3",
   "language": "python",
   "name": "python3"
  },
  "language_info": {
   "codemirror_mode": {
    "name": "ipython",
    "version": 3
   },
   "file_extension": ".py",
   "mimetype": "text/x-python",
   "name": "python",
   "nbconvert_exporter": "python",
   "pygments_lexer": "ipython3",
   "version": "3.6.1"
  },
  "mimetype": "text/x-python",
  "name": "python",
  "npconvert_exporter": "python",
  "pygments_lexer": "ipython3",
  "version": 3
 },
 "nbformat": 4,
 "nbformat_minor": 2
}
