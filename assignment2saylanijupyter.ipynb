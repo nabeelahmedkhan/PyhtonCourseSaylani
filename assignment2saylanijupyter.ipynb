{
 "cells": [
  {
   "cell_type": "code",
   "execution_count": 1,
   "metadata": {
    "scrolled": true
   },
   "outputs": [
    {
     "name": "stdout",
     "output_type": "stream",
     "text": [
      "Urdu subject marks: 78\n",
      "English subject marks: 98\n",
      "Math subject marks: 79\n",
      "AI subject marks: 78\n",
      "Python subject marks: 98\n",
      "Percentage:  86.2\n",
      "\t*********************************************\n",
      "      \tUrdu subject marks:    78\n",
      "      \n",
      "\tEnglish subject marks: 98 \n",
      "      \n",
      "\tMath subject marks:    79\n",
      "      \n",
      "\tAI subject marks:      78\n",
      "      \n",
      "\tPython subject marks:  98\n",
      "      \n",
      "\tTotal Marks:           431  OutOf 500 \n",
      "      \n",
      "\t                       Grade A\n",
      "        *********************************************\n"
     ]
    }
   ],
   "source": [
    "\"\"\"1. Write a program which takes 5 inputs from user for different subject’s\n",
    "marks, total it and generate mark sheet using grades ? \"\"\"\n",
    "\n",
    "urdu = input(\"Urdu subject marks: \") \n",
    "english = input(\"English subject marks: \")\n",
    "math = input(\"Math subject marks: \")\n",
    "ai = input(\"AI subject marks: \")\n",
    "pythonz  = input(\"Python subject marks: \")\n",
    "total = 500\n",
    "sums = int(urdu) + int(english) + int(math) +  int(ai) + int(pythonz)\n",
    "per = (sums*100) / total\n",
    "print(\"Percentage: \", per)\n",
    "\n",
    "if(per >= 90) :\n",
    "    grade = \"Grade A+\"\n",
    "elif(per >= 79 and per <= 89):\n",
    "    grade = \"Grade A\"\n",
    "elif(per >= 70 and per <= 78):\n",
    "    grade = \"Grade B+\"\n",
    "elif(per >= 60 and per <= 69):\n",
    "    grade = \"Grade B\"\n",
    "elif(per >= 50 and per <= 59):\n",
    "    grade = \"Grade C\"\n",
    "else : \n",
    "    grade = \"Fail\"\n",
    "print(\"\"\"\\t*********************************************\n",
    "      \\tUrdu subject marks:    {}\n",
    "      \\n\\tEnglish subject marks: {} \n",
    "      \\n\\tMath subject marks:    {}\n",
    "      \\n\\tAI subject marks:      {}\n",
    "      \\n\\tPython subject marks:  {}\n",
    "      \\n\\tTotal Marks:           {}  OutOf 500 \n",
    "      \\n\\t                       {}\n",
    "        *********************************************\"\"\"\n",
    "      .format(urdu, english, math, ai, pythonz, str(sums), grade ))\n"
   ]
  },
  {
   "cell_type": "code",
   "execution_count": 2,
   "metadata": {},
   "outputs": [
    {
     "name": "stdout",
     "output_type": "stream",
     "text": [
      "Enter Number i'll tell You it's Even Or Odd: 7\n",
      "Given Number is Odd:  7\n"
     ]
    }
   ],
   "source": [
    "\"\"\"2. Write a program which take input from user and identify that the given\n",
    "number is even or odd?\"\"\"\n",
    "num = input(\"Enter Number i'll tell You it's Even Or Odd: \")\n",
    "if int(num) % 2 == 0:\n",
    "    print(\"Given Number is Even: \", num)\n",
    "else:\n",
    "    print(\"Given Number is Odd: \", num)  "
   ]
  },
  {
   "cell_type": "code",
   "execution_count": 3,
   "metadata": {},
   "outputs": [
    {
     "name": "stdout",
     "output_type": "stream",
     "text": [
      "Lenght of list Using Length Function:  6\n",
      "Lenght of list :  6\n"
     ]
    }
   ],
   "source": [
    "\"\"\"3. Write a program which print the length of the list?\"\"\"\n",
    "aList = ['sd',2,'ds','43',53,'fd']\n",
    "print(\"Lenght of list Using Length Function: \",len(aList))\n",
    "count = 0\n",
    "for _ in aList:\n",
    "    count +=1\n",
    "print(\"Lenght of list : \", str(count))"
   ]
  },
  {
   "cell_type": "code",
   "execution_count": 4,
   "metadata": {},
   "outputs": [
    {
     "name": "stdout",
     "output_type": "stream",
     "text": [
      "sum of list integer number is :  108\n"
     ]
    }
   ],
   "source": [
    "\"\"\"4. Write a Python program to sum all the numeric items in a list?\"\"\"\n",
    "snList = ['sd','2','ds','43',53,'fd',10]\n",
    "summ = 0\n",
    "for i in snList:\n",
    "    try:\n",
    "        numb = float(i)\n",
    "        summ += int(numb)  \n",
    "    except:\n",
    "        pass\n",
    "print(\"sum of list integer number is : \", summ)"
   ]
  },
  {
   "cell_type": "code",
   "execution_count": 5,
   "metadata": {},
   "outputs": [
    {
     "name": "stdout",
     "output_type": "stream",
     "text": [
      "Largest Number from Numeric List:  6778\n",
      "Using Max Function:  6778\n"
     ]
    }
   ],
   "source": [
    "\"\"\"5. Write a Python program to get the largest number from a numeric list.\"\"\"\n",
    "lNlist = [34,65,67,899,86,45,6778,5,34,5465,678,9]\n",
    "nmax = 0\n",
    "for i in lNlist:\n",
    "    if i > nmax:\n",
    "        nmax = i \n",
    "print(\"Largest Number from Numeric List: \", nmax)\n",
    "print(\"Using Max Function: \",max(lNlist))"
   ]
  },
  {
   "cell_type": "code",
   "execution_count": 6,
   "metadata": {},
   "outputs": [
    {
     "name": "stdout",
     "output_type": "stream",
     "text": [
      "List Of Less than 5:  [2, 4, 2, 1, 3, 3, 4, 3, 1]\n"
     ]
    }
   ],
   "source": [
    "\"\"\"6. Take a list, say for example this one:\n",
    "a = [1, 1, 2, 3, 5, 8, 13, 21, 34, 55, 89]\n",
    "and write a program that prints out all the elements of the list that are\n",
    "less than 5.\"\"\"\n",
    "\n",
    "exList = [2,4,5,6,7,92,44,6,34,2,1,3,3,4,5,6,73,3,1]\n",
    "less5List = []\n",
    "for i in exList:\n",
    "    if i < 5:\n",
    "        less5List.append(i)\n",
    "print(\"List Of Less than 5: \",less5List)"
   ]
  }
 ],
 "metadata": {
  "file_extension": ".py",
  "kernelspec": {
   "display_name": "Python 3",
   "language": "python",
   "name": "python3"
  },
  "language_info": {
   "codemirror_mode": {
    "name": "ipython",
    "version": 3
   },
   "file_extension": ".py",
   "mimetype": "text/x-python",
   "name": "python",
   "nbconvert_exporter": "python",
   "pygments_lexer": "ipython3",
   "version": "3.6.1"
  },
  "mimetype": "text/x-python",
  "name": "python",
  "npconvert_exporter": "python",
  "pygments_lexer": "ipython3",
  "version": 3
 },
 "nbformat": 4,
 "nbformat_minor": 2
}
