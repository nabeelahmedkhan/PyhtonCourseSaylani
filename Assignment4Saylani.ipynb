{
 "cells": [
  {
   "cell_type": "markdown",
   "metadata": {},
   "source": [
    "# Question1:\n",
    "## Use a dictionary to store information about a person you know. Store their first name, last name, age, and the city in which they live. You should have keys such as first_name, last_name, age, and city. Print each piece of information stored in your dictionary. Add a new key value pair about qualification then update the qualification value to high academic level then delete it."
   ]
  },
  {
   "cell_type": "code",
   "execution_count": 3,
   "metadata": {},
   "outputs": [
    {
     "name": "stdout",
     "output_type": "stream",
     "text": [
      "{0: {'first_name': 'Nabeel', 'last_name': 'Khan', 'age': 23, 'city': 'Khi'}, 1: {'first_name': 'NAK', 'last_name': 'NAK', 'age': 23, 'city': 'Khi', 'Qualification': 'MSC'}}\n",
      "{0: {'first_name': 'Nabeel', 'last_name': 'Khan', 'age': 23, 'city': 'Khi', 'Qualification': 'BSC'}, 1: {'first_name': 'NAK', 'last_name': 'NAK', 'age': 23, 'city': 'Khi', 'Qualification': 'MSC'}}\n",
      "{0: {'first_name': 'Nabeel', 'last_name': 'Khan', 'age': 23, 'city': 'Khi', 'Qualification': 'PHD'}, 1: {'first_name': 'NAK', 'last_name': 'NAK', 'age': 23, 'city': 'Khi', 'Qualification': 'MSC'}}\n",
      "{0: {'first_name': 'Nabeel', 'last_name': 'Khan', 'age': 23, 'city': 'Khi'}, 1: {'first_name': 'NAK', 'last_name': 'NAK', 'age': 23, 'city': 'Khi', 'Qualification': 'MSC'}}\n"
     ]
    }
   ],
   "source": [
    "person_dict = {\n",
    "    0:{\n",
    "    'first_name':'Nabeel',\n",
    "    'last_name': 'Khan',\n",
    "    'age': 23,\n",
    "    'city': 'Khi'},\n",
    "    1:{\n",
    "    'first_name':'NAK',\n",
    "    'last_name': 'NAK',\n",
    "    'age': 23,\n",
    "    'city': 'Khi',\n",
    "    'Qualification':\"MSC\"},\n",
    "              }\n",
    "print(person_dict)\n",
    "person_dict[0]['Qualification'] = \"BSC\"\n",
    "print(person_dict)\n",
    "person_dict[0]['Qualification'] = \"PHD\"\n",
    "print(person_dict)\n",
    "del person_dict[0]['Qualification']\n",
    "print(person_dict)"
   ]
  },
  {
   "cell_type": "markdown",
   "metadata": {},
   "source": [
    "# Question2:\n",
    "## Make a dictionary called cities. Use the names of three cities as keys in your dictionary. Create adictionary of information about each city and include the country that the city is in, its approximate population, and one fact about that city. The keys for each city’s dictionary should be something like country, population, and fact. Print the name of each city and all of the information you have stored about it."
   ]
  },
  {
   "cell_type": "code",
   "execution_count": 4,
   "metadata": {},
   "outputs": [
    {
     "name": "stdout",
     "output_type": "stream",
     "text": [
      "\n",
      "Karachi is in Pakistan.\n",
      "  It has a population of about 10 Million.\n",
      "  The Economical Hub is the Fact of it\n",
      "\n",
      "Peshawar is in Pakistan.\n",
      "  It has a population of about 5 million.\n",
      "  The Beautiful is the Fact of it\n",
      "\n",
      "Islamabad is in Pakistan.\n",
      "  It has a population of about 1 million.\n",
      "  The Capital City Of Pakistan is the Fact of it\n"
     ]
    }
   ],
   "source": [
    "cities = {\n",
    "    \"karachi\":{\"country\":\"Pakistan\",\"Population\":\"10 Million\",\"fact\":\"Economical Hub\"},\n",
    "    \"peshawar\":{\"country\":\"Pakistan\",\"Population\":\"5 million\",'fact':\"Beautiful\"},\n",
    "    \"islamabad\":{\"country\":\"Pakistan\",\"Population\":\"1 million\",\"fact\":\"Capital City Of Pakistan\"}\n",
    "    }\n",
    "\n",
    "for city, city_info in cities.items():\n",
    "    country = city_info['country'].title()\n",
    "    population = city_info['Population']\n",
    "    fact = city_info['fact'].title()\n",
    "\n",
    "    print(\"\\n\" + city.title() + \" is in \" + country + \".\")\n",
    "    print(\"  It has a population of about \" + str(population) + \".\")\n",
    "    print(\"  The \" + fact + \" is the Fact of it\")"
   ]
  },
  {
   "cell_type": "markdown",
   "metadata": {},
   "source": [
    "# Question3:\n",
    "A movie theater charges different ticket prices depending on a person’s age. If a person is under the age\n",
    "of 3, the ticket is free; if they are between 3 and 12, the ticket is $10; and if they are over age 12, the\n",
    "ticket is $15. Write a loop in which you ask users their age, and then tell them the cost of their movie\n",
    "ticket."
   ]
  },
  {
   "cell_type": "code",
   "execution_count": 5,
   "metadata": {},
   "outputs": [
    {
     "name": "stdout",
     "output_type": "stream",
     "text": [
      "what is your age: 7\n",
      "your ticket is $10\n"
     ]
    }
   ],
   "source": [
    "while True:\n",
    "    age = int(input(\"what is your age: \"))\n",
    "    if age <=3:\n",
    "        print(\"your ticket is free\")\n",
    "        break\n",
    "    if age >3 and age <=12:\n",
    "        print(\"your ticket is $10\")\n",
    "        break\n",
    "    if age > 12:\n",
    "        print(\"your ticket is $15\")\n",
    "        break"
   ]
  },
  {
   "cell_type": "markdown",
   "metadata": {},
   "source": [
    "# Question4:\n",
    "## Write a function called favorite_book() that accepts one parameter, title. The function should print a message, such as One of my favorite books is Alice in Wonderland. Call the function, making sure to include a book title as an argument in the function call."
   ]
  },
  {
   "cell_type": "code",
   "execution_count": 6,
   "metadata": {},
   "outputs": [
    {
     "name": "stdout",
     "output_type": "stream",
     "text": [
      "One of my favourite book is :  Alice in Wonderland\n"
     ]
    }
   ],
   "source": [
    "\n",
    "def favorite_book(title):\n",
    "    print(\"One of my favourite book is : \",title)\n",
    "    return None\n",
    "favorite_book('Alice in Wonderland')"
   ]
  },
  {
   "cell_type": "markdown",
   "metadata": {},
   "source": [
    "# Question5:\n",
    "## Guess the number game\n",
    "## Write a program which randomly generate a number between 1 to 30 and ask the user in input field to guess the correct number. Give three chances to user guess the number and also give hint to user if hidden number is greater or smaller than the number he given to input field."
   ]
  },
  {
   "cell_type": "code",
   "execution_count": 2,
   "metadata": {},
   "outputs": [
    {
     "name": "stdout",
     "output_type": "stream",
     "text": [
      "================HINT================\n",
      "try a number between 1 and 5\n",
      "enter your guess: 4\n",
      "try a number samller than : 4\n",
      "enter your guess: 3\n",
      "your guess is right\n"
     ]
    }
   ],
   "source": [
    "import random\n",
    "hidden = random.randint(1,30) \n",
    "def hint(hidden):\n",
    "    print(\"================HINT================\")\n",
    "    if hidden>= 1 and hidden < 5:\n",
    "        print(\"try a number between 1 and 5\")\n",
    "    elif hidden >= 5 and hidden < 10:\n",
    "        print(\"try a number between 5 and 10\")\n",
    "    elif hidden >= 10 and hidden < 15:\n",
    "        print(\"try a number between 10 and 20\")\n",
    "    elif hidden >= 15 and hidden < 20:\n",
    "        print(\"try a number between 15 and 20\")\n",
    "    elif hidden >= 20 and hidden < 25:\n",
    "        print(\"try a number between 20 and 35\")\n",
    "    elif hidden >= 25 and hidden <= 30:\n",
    "        print(\"try a number between 25 and 30\")\n",
    "    return None\n",
    "def userhint(user,hidden):\n",
    "    if hidden > user:\n",
    "        print(\"try a number graterthan : {}\".format(user))\n",
    "    elif hidden < user:\n",
    "        print(\"try a number samller than : {}\".format(user))\n",
    "    return None\n",
    "\n",
    "hint(hidden)\n",
    "for i in range(0,3):\n",
    "    user = int(input(\"enter your guess: \"))\n",
    "    userhint(user,hidden)\n",
    "    if user == hidden:\n",
    "        print(\"your guess is right\")\n",
    "        break"
   ]
  },
  {
   "cell_type": "code",
   "execution_count": null,
   "metadata": {
    "collapsed": true
   },
   "outputs": [],
   "source": []
  }
 ],
 "metadata": {
  "kernelspec": {
   "display_name": "Python 3",
   "language": "python",
   "name": "python3"
  },
  "language_info": {
   "codemirror_mode": {
    "name": "ipython",
    "version": 3
   },
   "file_extension": ".py",
   "mimetype": "text/x-python",
   "name": "python",
   "nbconvert_exporter": "python",
   "pygments_lexer": "ipython3",
   "version": "3.6.1"
  }
 },
 "nbformat": 4,
 "nbformat_minor": 2
}
